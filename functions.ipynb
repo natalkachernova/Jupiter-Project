{
 "cells": [
  {
   "cell_type": "markdown",
   "id": "06aa2c11-5bc4-42ff-a35b-2859cddfd24d",
   "metadata": {},
   "source": [
    "Ми використовуємо слово def"
   ]
  },
  {
   "cell_type": "code",
   "execution_count": null,
   "id": "3fe2a602-123d-43c3-9421-b9ed0e9660d1",
   "metadata": {},
   "outputs": [],
   "source": [
    "def add(x, y)\n",
    "    return x+y"
   ]
  },
  {
   "cell_type": "code",
   "execution_count": null,
   "id": "5b6296b5-460d-4a6e-a320-bf0a2c9f70c6",
   "metadata": {},
   "outputs": [],
   "source": [
    "В даній функції ми використовуємо дужки"
   ]
  },
  {
   "cell_type": "code",
   "execution_count": 4,
   "id": "9d88c209-d0a6-4825-aa5e-63feafbdd110",
   "metadata": {
    "tags": []
   },
   "outputs": [
    {
     "name": "stdout",
     "output_type": "stream",
     "text": [
      "5\n"
     ]
    }
   ],
   "source": [
    "def add(x, y):\n",
    "    return x+y\n",
    "\n",
    "print(add(2,3))"
   ]
  }
 ],
 "metadata": {
  "kernelspec": {
   "display_name": "Python 3 (ipykernel)",
   "language": "python",
   "name": "python3"
  },
  "language_info": {
   "codemirror_mode": {
    "name": "ipython",
    "version": 3
   },
   "file_extension": ".py",
   "mimetype": "text/x-python",
   "name": "python",
   "nbconvert_exporter": "python",
   "pygments_lexer": "ipython3",
   "version": "3.10.6"
  }
 },
 "nbformat": 4,
 "nbformat_minor": 5
}
